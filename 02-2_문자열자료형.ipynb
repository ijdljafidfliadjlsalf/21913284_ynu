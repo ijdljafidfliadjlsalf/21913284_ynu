{
 "cells": [
  {
   "cell_type": "markdown",
   "metadata": {},
   "source": []
  },
  {
   "cell_type": "markdown",
   "metadata": {},
   "source": [
    "### 문자열은 어떻게 사용할까\n",
    "\n",
    "- \"문자열\" "
   ]
  },
  {
   "cell_type": "code",
   "execution_count": 2,
   "metadata": {},
   "outputs": [
    {
     "name": "stdout",
     "output_type": "stream",
     "text": [
      "hello world\n",
      "<class 'str'>\n"
     ]
    }
   ],
   "source": [
    "# 큰 따옴표 \n",
    "a = \"hello world\"\n",
    "print(a)\n",
    "print(type(a))"
   ]
  },
  {
   "cell_type": "code",
   "execution_count": 3,
   "metadata": {},
   "outputs": [
    {
     "name": "stdout",
     "output_type": "stream",
     "text": [
      "python is fun\n",
      "<class 'str'>\n"
     ]
    }
   ],
   "source": [
    "# 작은 따옴표\n",
    "b = 'python is fun'\n",
    "print(b)\n",
    "print(type(b))"
   ]
  },
  {
   "cell_type": "code",
   "execution_count": 5,
   "metadata": {},
   "outputs": [
    {
     "name": "stdout",
     "output_type": "stream",
     "text": [
      " \n",
      "Life is too short, you need python\n",
      "<class 'str'>\n"
     ]
    }
   ],
   "source": [
    "# 큰 따옴표 3개(한 후 스페이스바로 하면 쉽게 정리가능)\n",
    "c = \"\"\" \n",
    "Life is too short, you need python\"\"\" \n",
    "\n",
    "print(c)\n",
    "print(type(c))"
   ]
  },
  {
   "cell_type": "code",
   "execution_count": 6,
   "metadata": {},
   "outputs": [
    {
     "name": "stdout",
     "output_type": "stream",
     "text": [
      " Life is too short, you need python\n",
      "<class 'str'>\n"
     ]
    }
   ],
   "source": [
    "# 작은 따옴표 3개\n",
    "d = ''' Life is too short, you need python'''\n",
    "\n",
    "print(d)\n",
    "print(type(d))"
   ]
  },
  {
   "cell_type": "code",
   "execution_count": 7,
   "metadata": {},
   "outputs": [
    {
     "name": "stdout",
     "output_type": "stream",
     "text": [
      "python's favorite food is perl\n"
     ]
    }
   ],
   "source": [
    "food = \"python's favorite food is perl\"\n",
    "print(food)"
   ]
  },
  {
   "cell_type": "code",
   "execution_count": 8,
   "metadata": {},
   "outputs": [
    {
     "ename": "SyntaxError",
     "evalue": "unterminated string literal (detected at line 1) (2554431777.py, line 1)",
     "output_type": "error",
     "traceback": [
      "\u001b[1;36m  Cell \u001b[1;32mIn[8], line 1\u001b[1;36m\u001b[0m\n\u001b[1;33m    food = 'python's favorite food is perl'\u001b[0m\n\u001b[1;37m                                          ^\u001b[0m\n\u001b[1;31mSyntaxError\u001b[0m\u001b[1;31m:\u001b[0m unterminated string literal (detected at line 1)\n"
     ]
    }
   ],
   "source": [
    "food = 'python's favorite food is perl'\n",
    "print(food)  "
   ]
  },
  {
   "cell_type": "code",
   "execution_count": 11,
   "metadata": {},
   "outputs": [
    {
     "name": "stdout",
     "output_type": "stream",
     "text": [
      "\"python is very easy.\" he says.\n"
     ]
    }
   ],
   "source": [
    "say = '\"python is very easy.\" he says.' \n",
    "\n",
    "\n",
    "print(say)"
   ]
  },
  {
   "cell_type": "code",
   "execution_count": 15,
   "metadata": {},
   "outputs": [
    {
     "name": "stdout",
     "output_type": "stream",
     "text": [
      "python's faorite food is perl\n",
      "\"python is very easy.\" he says.\n"
     ]
    }
   ],
   "source": [
    "food = 'python\\'s faorite food is perl' \n",
    "say = \"\\\"python is very easy.\\\" he says.\"\n",
    "print (food) \n",
    "print(say)"
   ]
  },
  {
   "cell_type": "markdown",
   "metadata": {},
   "source": []
  },
  {
   "cell_type": "markdown",
   "metadata": {},
   "source": [
    "### 여러 줄 문자열 표현"
   ]
  },
  {
   "cell_type": "code",
   "execution_count": 16,
   "metadata": {},
   "outputs": [
    {
     "name": "stdout",
     "output_type": "stream",
     "text": [
      "Life is too short\n",
      "You need python\n"
     ]
    }
   ],
   "source": [
    "# 이스케이프 코드 \\n(줄바꿈 코드)\n",
    "\n",
    "multiline = \"Life is too short\\nYou need python\"\n",
    "print(multiline)"
   ]
  },
  {
   "cell_type": "code",
   "execution_count": 20,
   "metadata": {},
   "outputs": [
    {
     "name": "stdout",
     "output_type": "stream",
     "text": [
      "\n",
      "    \"Life\" is too short\n",
      "    You need python\n",
      "\n"
     ]
    }
   ],
   "source": [
    "# 작은따옴표3개, 큰따옴표3개 활용\n",
    "\n",
    "multiline = '''\n",
    "    \"Life\" is too short\n",
    "    You need python\n",
    "'''\n",
    "\n",
    "print(multiline)"
   ]
  },
  {
   "cell_type": "markdown",
   "metadata": {},
   "source": [
    "### 문자열 연산\n"
   ]
  },
  {
   "cell_type": "code",
   "execution_count": 23,
   "metadata": {},
   "outputs": [
    {
     "name": "stdout",
     "output_type": "stream",
     "text": [
      "python is fun!\n"
     ]
    }
   ],
   "source": [
    "# 문자열 더하기\n",
    "\n",
    "head = \"python\" \n",
    "tail = \" is fun!\"\n",
    "\n",
    "print(head +tail)"
   ]
  },
  {
   "cell_type": "code",
   "execution_count": 25,
   "metadata": {},
   "outputs": [
    {
     "name": "stdout",
     "output_type": "stream",
     "text": [
      "pythonpythonpythonpythonpython\n"
     ]
    }
   ],
   "source": [
    "# 문자열 곱하기\n",
    "\n",
    "a = \"python\" \n",
    "print(a * 5)\n"
   ]
  },
  {
   "cell_type": "code",
   "execution_count": 26,
   "metadata": {},
   "outputs": [
    {
     "name": "stdout",
     "output_type": "stream",
     "text": [
      "=================================\n",
      "==================================================\n",
      "My Program\n",
      "=======================================================\n"
     ]
    }
   ],
   "source": [
    "print(\"=================================\")\n",
    "print(\"=\" * 50)\n",
    "print(\"My Program\")\n",
    "print(\"=\" * 55)"
   ]
  },
  {
   "cell_type": "code",
   "execution_count": 27,
   "metadata": {},
   "outputs": [
    {
     "data": {
      "text/plain": [
       "17"
      ]
     },
     "execution_count": 27,
     "metadata": {},
     "output_type": "execute_result"
    }
   ],
   "source": [
    "# 문자열 길이 구하기 len()\n",
    "\n",
    "a = \"Life is too short\"\n",
    "len(a)"
   ]
  },
  {
   "cell_type": "code",
   "execution_count": 29,
   "metadata": {},
   "outputs": [
    {
     "data": {
      "text/plain": [
       "7"
      ]
     },
     "execution_count": 29,
     "metadata": {},
     "output_type": "execute_result"
    }
   ],
   "source": [
    "b = \"p yhton\"\n",
    "len(b)"
   ]
  },
  {
   "cell_type": "markdown",
   "metadata": {},
   "source": [
    "### 문자열 인덱싱과 슬라이싱"
   ]
  },
  {
   "cell_type": "code",
   "execution_count": 38,
   "metadata": {},
   "outputs": [
    {
     "name": "stdout",
     "output_type": "stream",
     "text": [
      "34\n",
      "l\n",
      "i\n",
      "f\n",
      "e\n",
      "n\n",
      "life\n"
     ]
    }
   ],
   "source": [
    "a = \"life is too short, you need python\" \n",
    "\n",
    "print(len(a))\n",
    "print(a[0])\n",
    "print(a[1])\n",
    "print(a[2])\n",
    "print(a[3])\n",
    "print(a[-1])\n",
    "print(a[0] + a[1] + a[2] + a[3])"
   ]
  },
  {
   "cell_type": "code",
   "execution_count": 41,
   "metadata": {},
   "outputs": [
    {
     "name": "stdout",
     "output_type": "stream",
     "text": [
      "life\n",
      "life is\n",
      "short\n"
     ]
    }
   ],
   "source": [
    "a = \"life is too short, you need python\" \n",
    "\n",
    "print(a[0:4])\n",
    "print(a[0:7])\n",
    "print(a[12:17])"
   ]
  },
  {
   "cell_type": "code",
   "execution_count": 47,
   "metadata": {},
   "outputs": [
    {
     "name": "stdout",
     "output_type": "stream",
     "text": [
      "you need python\n",
      " need python\n",
      "life is too short\n",
      "life is too short\n",
      "you need python\n",
      "you need python\n",
      " need python\n",
      "life is too short\n",
      "life is too short\n",
      "you need python\n",
      "life is too short, you need python\n",
      "life is too short, you need python\n"
     ]
    }
   ],
   "source": [
    "a = \"life is too short, you need python\" \n",
    "\n",
    "print(a[19:])\n",
    "print(a[22:])\n",
    "print(a[0:17])\n",
    "print(a[:17])\n",
    "print(a[19:34])\n",
    "\n",
    "print(a[19:])\n",
    "print(a[22:])\n",
    "print(a[0:17])\n",
    "print(a[:17])\n",
    "print(a[19:34])\n",
    "\n",
    "print(a)\n",
    "print(a[:])"
   ]
  },
  {
   "cell_type": "code",
   "execution_count": 49,
   "metadata": {},
   "outputs": [
    {
     "name": "stdout",
     "output_type": "stream",
     "text": [
      "2024\n",
      "0806\n",
      "Sunny\n"
     ]
    }
   ],
   "source": [
    " a = \"20240806Sunny\"\n",
    "\n",
    "year = a[0:4]\n",
    "day = a[4:8]\n",
    "weather = a[8:]\n",
    "\n",
    "print(year)\n",
    "print(day)\n",
    "print(weather)\n",
    "\n",
    "\n",
    " "
   ]
  },
  {
   "cell_type": "markdown",
   "metadata": {},
   "source": [
    "퀴즈 1 \n",
    "* 출력값을 2024년 08월 06일, 오늘의 날씨는 sunny 입니다.\n",
    " a = \"20240806Sunny\"\n",
    "\n"
   ]
  },
  {
   "cell_type": "code",
   "execution_count": 53,
   "metadata": {},
   "outputs": [
    {
     "ename": "SyntaxError",
     "evalue": "invalid syntax. Perhaps you forgot a comma? (3166843074.py, line 10)",
     "output_type": "error",
     "traceback": [
      "\u001b[1;36m  Cell \u001b[1;32mIn[53], line 10\u001b[1;36m\u001b[0m\n\u001b[1;33m    print(f\"{year}년\" {month}월 {day}일, \"오늘의 날씨는 \"{weather} 입니다)\u001b[0m\n\u001b[1;37m          ^\u001b[0m\n\u001b[1;31mSyntaxError\u001b[0m\u001b[1;31m:\u001b[0m invalid syntax. Perhaps you forgot a comma?\n"
     ]
    }
   ],
   "source": [
    " a = \"20240806Sunny\"\n",
    "\n",
    "year = a[0:4]\n",
    "month = a[4:6]\n",
    "day = a[6:8]\n",
    "weather = a[8:]\n",
    "\n",
    "\n",
    "\n",
    "print(f\"{year}년\" {month}월 {day}일, \"오늘의 날씨는 \"{weather} 입니다)\n",
    "\n",
    "\n"
   ]
  },
  {
   "cell_type": "code",
   "execution_count": 56,
   "metadata": {},
   "outputs": [
    {
     "ename": "NameError",
     "evalue": "name 'y' is not defined",
     "output_type": "error",
     "traceback": [
      "\u001b[1;31m---------------------------------------------------------------------------\u001b[0m",
      "\u001b[1;31mNameError\u001b[0m                                 Traceback (most recent call last)",
      "Cell \u001b[1;32mIn[56], line 3\u001b[0m\n\u001b[0;32m      1\u001b[0m a \u001b[38;5;241m=\u001b[39m \u001b[38;5;124m\"\u001b[39m\u001b[38;5;124mpithon\u001b[39m\u001b[38;5;124m\"\u001b[39m\n\u001b[1;32m----> 3\u001b[0m a[\u001b[38;5;241m1\u001b[39m] \u001b[38;5;241m=\u001b[39m \u001b[43my\u001b[49m\n\u001b[0;32m      5\u001b[0m \u001b[38;5;28mprint\u001b[39m(a)\n",
      "\u001b[1;31mNameError\u001b[0m: name 'y' is not defined"
     ]
    }
   ],
   "source": [
    "a = \"pithon\"\n",
    "\n",
    "a[1] = y\n",
    "\n",
    "print(a)"
   ]
  },
  {
   "cell_type": "code",
   "execution_count": 58,
   "metadata": {},
   "outputs": [
    {
     "name": "stdout",
     "output_type": "stream",
     "text": [
      "python\n",
      "pithon\n"
     ]
    }
   ],
   "source": [
    "a = \"pithon\"\n",
    "\n",
    "print(a[0] + \"y\" + a[2:])\n",
    "print(a)"
   ]
  },
  {
   "cell_type": "markdown",
   "metadata": {},
   "source": [
    "### 문자열 포메팅"
   ]
  },
  {
   "cell_type": "code",
   "execution_count": null,
   "metadata": {},
   "outputs": [],
   "source": []
  },
  {
   "cell_type": "code",
   "execution_count": 7,
   "metadata": {},
   "outputs": [
    {
     "name": "stdout",
     "output_type": "stream",
     "text": [
      "I eat %d apples.\n",
      "I eat 3 apples.\n",
      "I eat 100 apples.\n",
      "====================================================================================================\n",
      "I eat %s apples.\n",
      "I eat five apples.\n"
     ]
    }
   ],
   "source": [
    "# 숫자 바로 대입(숫자는 %d)\n",
    "a = 100\n",
    "\n",
    "print(\"I eat %d apples.\")\n",
    "print(\"I eat %d apples.\" %3)\n",
    "print(\"I eat %d apples.\" % a)\n",
    "print(\"=\" * 100)\n",
    "\n",
    "# 문자열 바로 대입(문자는 %s)\n",
    "\n",
    "print(\"I eat %s apples.\")\n",
    "print(\"I eat %s apples.\" % \"five\")\n",
    "\n"
   ]
  },
  {
   "cell_type": "code",
   "execution_count": 12,
   "metadata": {},
   "outputs": [
    {
     "name": "stdout",
     "output_type": "stream",
     "text": [
      "=I eat %d apples\n",
      "=I eat 3 apples\n",
      "I eat3apples\n",
      "I ate 10 apples. so I was sick for three days.\n"
     ]
    }
   ],
   "source": [
    "# 숫자 값을 나태내는 변수\n",
    "\n",
    "number = 3\n",
    "print(\"=I eat %d apples\")  \n",
    "print(\"=I eat %d apples\" % number) \n",
    "\n",
    "print(\"I eat\" + str(number) + \"apples\")\n",
    "\n",
    "#  두개 이상의 값 넣기\n",
    "number = 10\n",
    "day = \"three\"\n",
    "\n",
    "print(\"I ate %d apples. so I was sick for %s days.\" % (number, day))"
   ]
  },
  {
   "cell_type": "code",
   "execution_count": 18,
   "metadata": {},
   "outputs": [
    {
     "name": "stdout",
     "output_type": "stream",
     "text": [
      "정렬과 공백 : hi\n",
      "정렬과 공백 :         hi\n",
      "정렬과 공백 :                   hi\n",
      "정렬과 공백 : hi                  \n",
      "정렬과 공백 : hi                  |\n",
      "====================================================================================================\n"
     ]
    }
   ],
   "source": [
    "#  정렬과 공백\n",
    "print(\"정렬과 공백 : %s\" % \"hi\")\n",
    "print(\"정렬과 공백 : %10s\" % \"hi\")\n",
    "print(\"정렬과 공백 : %20s\" % \"hi\")\n",
    "print(\"정렬과 공백 : %-20s\" % \"hi\")\n",
    "print(\"정렬과 공백 : %-20s|\" % \"hi\") \n",
    "print(\"=\" * 100)\n",
    "\n",
    "\n",
    "\n",
    "\n"
   ]
  },
  {
   "cell_type": "code",
   "execution_count": 23,
   "metadata": {},
   "outputs": [
    {
     "name": "stdout",
     "output_type": "stream",
     "text": [
      "소수점 표현 : 3.141259\n",
      "소수점 표현 : 3.1413\n",
      "소수점 표현 : 3.141\n",
      "====================================================================================================\n",
      "소수점 표현 :                3.141\n",
      "소수점 표현 :                3.141|\n"
     ]
    }
   ],
   "source": [
    "# 소수점 표현하기(소수점 실수는 %f)\n",
    "a = 3.141259\n",
    "\n",
    "print(\"소수점 표현 : %f\" % a)\n",
    "print(\"소수점 표현 : %.4f\" % a)\n",
    "print(\"소수점 표현 : %.3f\" % a)\n",
    "print(\"=\" * 100)\n",
    "print(\"소수점 표현 : %20.3f\" % a)\n",
    "print(\"소수점 표현 : %20.3f|\" % a)\n"
   ]
  },
  {
   "cell_type": "markdown",
   "metadata": {},
   "source": [
    "### format 함수를 사용한 포매팅\n"
   ]
  },
  {
   "cell_type": "code",
   "execution_count": 31,
   "metadata": {},
   "outputs": [
    {
     "name": "stdout",
     "output_type": "stream",
     "text": [
      "I eat 3 apples\n",
      "I eat 3 apples\n",
      "====================================================================================================\n",
      "I eat 3 apples\n",
      "I eat five apples\n",
      "I eat five apples\n",
      "====================================================================================================\n"
     ]
    }
   ],
   "source": [
    "# 숫자 바로 대입하기\n",
    "print(\"I eat %d apples\" % 3)\n",
    "print(\"I eat {0} apples\". format(3))\n",
    "print(\"=\" * 100)\n",
    "# 문자열 바로 대입하기\n",
    "print(\"I eat %d apples\" % 3)\n",
    "print(\"I eat %s apples\" %\"five\")\n",
    "print(\"I eat {0} apples\". format(\"five\"))\n",
    "print(\"=\" * 100)\n",
    "\n"
   ]
  },
  {
   "cell_type": "code",
   "execution_count": 40,
   "metadata": {},
   "outputs": [
    {
     "name": "stdout",
     "output_type": "stream",
     "text": [
      "Iate {0} apples. so I was sick for {1} days.\n",
      "Iate 10 apples. so I was sick for three days.\n",
      "I ate {number} apples. so I was sick for {day} days.\n",
      "I ate 10 apples. so I was sick for 3 days.\n",
      "I ate 10 apples. so I was sick for 3 days.\n",
      "I ate 10 apples. so I was sick for 3 days.\n"
     ]
    }
   ],
   "source": [
    "# 2개 이상 값 넣기\n",
    "\n",
    "number = 10\n",
    "day = \"three\"\n",
    "\n",
    "print(\"Iate {0} apples. so I was sick for {1} days.\")\n",
    "print(\"Iate {0} apples. so I was sick for {1} days.\". format(number, day))\n",
    "\n",
    "# 이름으로 넣기\n",
    "\n",
    "print(\"I ate {number} apples. so I was sick for {day} days.\")\n",
    "print(\"I ate {number} apples. so I was sick for {day} days.\".format(number=10, day=3))\n",
    "print(\"I ate {number} apples. so I was sick for {day} days.\".format(number=10, day=3))\n",
    "\n",
    "# 인덱스와 혼용으로 사용\n",
    "\n",
    "print(\"I ate {0} apples. so I was sick for {day} days.\".format(10,day = 3))\n"
   ]
  },
  {
   "cell_type": "code",
   "execution_count": 55,
   "metadata": {},
   "outputs": [
    {
     "name": "stdout",
     "output_type": "stream",
     "text": [
      "정렬: hi\n",
      "정렬: hi        |\n",
      "정렬: hi                  |\n",
      "====================================================================================================\n",
      "정렬:         hi|\n",
      "====================================================================================================\n",
      "정렬:     hi    |\n"
     ]
    }
   ],
   "source": [
    "# 왼쪽 정렬\n",
    "a = \"hi\"\n",
    "print(\"정렬: {0}\". format(a))\n",
    "print(\"정렬: {0:<10}|\". format(a))\n",
    "print(\"정렬: {0:<20}|\". format(a))\n",
    "print(\"=\" * 100)\n",
    "\n",
    "# 오른쪽 정렬\n",
    "print(\"정렬: {0:>10}|\". format(a))\n",
    "print(\"=\" * 100)\n",
    "\n",
    "# 가운데 정렬\n",
    "print(\"정렬: {0:^10}|\". format(a))"
   ]
  },
  {
   "cell_type": "code",
   "execution_count": 63,
   "metadata": {},
   "outputs": [
    {
     "name": "stdout",
     "output_type": "stream",
     "text": [
      "공백: hi\n",
      "공백: hi|\n",
      "공백:     hi    |\n",
      "공백: ++++hi++++|\n",
      "====================================================================================================\n"
     ]
    }
   ],
   "source": [
    "#  공백 채우기\n",
    "a = \"hi\"\n",
    "print(\"공백: {0}\"  .format(a))\n",
    "print(\"공백: {0}|\" .format(a))\n",
    "print(\"공백: {0:^10}|\" .format(a))\n",
    "print(\"공백: {0:+^10}|\" .format(a))\n",
    "print(\"=\" * 100)\n"
   ]
  },
  {
   "cell_type": "code",
   "execution_count": 69,
   "metadata": {},
   "outputs": [
    {
     "name": "stdout",
     "output_type": "stream",
     "text": [
      "소수점 표현 : \n",
      "소수점 표현 :3.141596\n",
      "소수점 표현 :3.14\n"
     ]
    }
   ],
   "source": [
    "# 소수점 표현\n",
    "y = 3.141596\n",
    "\n",
    "print(\"소수점 표현 : \")\n",
    "print(\"소수점 표현 :{0}\" .format(y))\n",
    "print(\"소수점 표현 :{0:.2f}\" .format(y))"
   ]
  },
  {
   "cell_type": "markdown",
   "metadata": {},
   "source": [
    "### f문자열 포매팅\n"
   ]
  },
  {
   "cell_type": "code",
   "execution_count": 79,
   "metadata": {},
   "outputs": [
    {
     "name": "stdout",
     "output_type": "stream",
     "text": [
      "나의 이름은 홍길동입니다. 나이는 30입니다.\n",
      "나의 이름은 홍길동입니다. 나이는 30입니다.\n",
      "나의 이름은 홍길동입니다. 나이는 30입니다\n"
     ]
    }
   ],
   "source": [
    "name = '홍길동'\n",
    "age = 30\n",
    "\n",
    "# 1\n",
    "print(\"나의 이름은 %s입니다. 나이는 %d입니다.\" %( name, age))\n",
    "# 2\n",
    "print(\"나의 이름은 {0}입니다. 나이는 {1}입니다.\" .format( name, age))\n",
    "# 3\n",
    "print(f\"나의 이름은 {name}입니다. 나이는 {age}입니다\")"
   ]
  },
  {
   "cell_type": "code",
   "execution_count": 80,
   "metadata": {},
   "outputs": [
    {
     "name": "stdout",
     "output_type": "stream",
     "text": [
      "나는 내년이면 31살이 된다\n"
     ]
    }
   ],
   "source": [
    "print(f\"나는 내년이면 {age + 1}살이 된다\")"
   ]
  },
  {
   "cell_type": "code",
   "execution_count": 87,
   "metadata": {},
   "outputs": [
    {
     "name": "stdout",
     "output_type": "stream",
     "text": [
      "나의 이름은 홍길동입니다. 나이는 30입니다\n"
     ]
    },
    {
     "ename": "KeyError",
     "evalue": "'name'",
     "output_type": "error",
     "traceback": [
      "\u001b[1;31m---------------------------------------------------------------------------\u001b[0m",
      "\u001b[1;31mKeyError\u001b[0m                                  Traceback (most recent call last)",
      "Cell \u001b[1;32mIn[87], line 3\u001b[0m\n\u001b[0;32m      1\u001b[0m d \u001b[38;5;241m=\u001b[39m {\u001b[38;5;124m\"\u001b[39m\u001b[38;5;132;01m{name}\u001b[39;00m\u001b[38;5;124m\"\u001b[39m : \u001b[38;5;124m\"\u001b[39m\u001b[38;5;124m홍길동\u001b[39m\u001b[38;5;124m\"\u001b[39m, \u001b[38;5;124m\"\u001b[39m\u001b[38;5;124mage\u001b[39m\u001b[38;5;124m\"\u001b[39m : \u001b[38;5;241m30\u001b[39m}\n\u001b[0;32m      2\u001b[0m \u001b[38;5;28mprint\u001b[39m(\u001b[38;5;124mf\u001b[39m\u001b[38;5;124m\"\u001b[39m\u001b[38;5;124m나의 이름은 \u001b[39m\u001b[38;5;132;01m{\u001b[39;00mname\u001b[38;5;132;01m}\u001b[39;00m\u001b[38;5;124m입니다. 나이는 \u001b[39m\u001b[38;5;132;01m{\u001b[39;00mage\u001b[38;5;132;01m}\u001b[39;00m\u001b[38;5;124m입니다\u001b[39m\u001b[38;5;124m\"\u001b[39m)\n\u001b[1;32m----> 3\u001b[0m \u001b[38;5;28mprint\u001b[39m(\u001b[38;5;124mf\u001b[39m\u001b[38;5;124m\"\u001b[39m\u001b[38;5;124m나의 이름은 \u001b[39m\u001b[38;5;132;01m{\u001b[39;00m\u001b[43md\u001b[49m\u001b[43m[\u001b[49m\u001b[38;5;124;43m\"\u001b[39;49m\u001b[38;5;124;43mname\u001b[39;49m\u001b[38;5;124;43m\"\u001b[39;49m\u001b[43m]\u001b[49m\u001b[38;5;132;01m}\u001b[39;00m\u001b[38;5;124m입니다. 나이는 \u001b[39m\u001b[38;5;132;01m{\u001b[39;00md[\u001b[38;5;124m\"\u001b[39m\u001b[38;5;124mage\u001b[39m\u001b[38;5;124m\"\u001b[39m]\u001b[38;5;132;01m}\u001b[39;00m\u001b[38;5;124m입니다.\u001b[39m\u001b[38;5;124m\"\u001b[39m)\n",
      "\u001b[1;31mKeyError\u001b[0m: 'name'"
     ]
    }
   ],
   "source": [
    "d = {\"{name}\" : \"홍길동\", \"age\" : 30}\n",
    "print(f\"나의 이름은 {name}입니다. 나이는 {age}입니다\")\n",
    "print(f\"나의 이름은 {d[\"name\"]}입니다. 나이는 {d[\"age\"]}입니다.\")"
   ]
  },
  {
   "cell_type": "code",
   "execution_count": 95,
   "metadata": {},
   "outputs": [
    {
     "name": "stdout",
     "output_type": "stream",
     "text": [
      "정렬 : hi|\n",
      "정렬 : hi        |\n",
      "정렬:         hi\n",
      "정렬 :     hi    |\n",
      "공백채우기 :====hi====|\n",
      "소수점 표현 : 3.42134234\n",
      "소수점 표현 : 3.42134234\n"
     ]
    }
   ],
   "source": [
    "a = \"hi\"\n",
    "print(f\"정렬 : {a}|\")\n",
    "#  왼쪽정렬\n",
    "print(f\"정렬 : {a:<10}|\")\n",
    "# 오른쪽 정렬\n",
    "print(f\"정렬: {a:>10}\")\n",
    "# 중앙정렬\n",
    "print(f\"정렬 : {a:^10}|\")\n",
    "\n",
    "# 공백채우기\n",
    "print(f\"공백채우기 :{a:=^10}|\")\n",
    "\n",
    "# 소수점 표현\n",
    "y = 3.42134234\n",
    "print(f\"소수점 표현 : {y}\")\n",
    "print(f\"소수점 표현 : {y}\")"
   ]
  },
  {
   "cell_type": "markdown",
   "metadata": {},
   "source": [
    "### 문자열 관련 함수들\n",
    "* count, find, index"
   ]
  },
  {
   "cell_type": "code",
   "execution_count": 103,
   "metadata": {},
   "outputs": [
    {
     "name": "stdout",
     "output_type": "stream",
     "text": [
      "5\n",
      "2\n",
      "2\n"
     ]
    }
   ],
   "source": [
    "# count()\n",
    "\n",
    "a = \"hobby\"\n",
    "a.count(\"b\")\n",
    "print(len(a))\n",
    "print(a.count(\"b\"))\n",
    "print(\"hobby\".count(\"b\"))"
   ]
  },
  {
   "cell_type": "code",
   "execution_count": 108,
   "metadata": {},
   "outputs": [
    {
     "name": "stdout",
     "output_type": "stream",
     "text": [
      "14\n",
      "-1\n"
     ]
    }
   ],
   "source": [
    "# 위치 알려 주기 find()\n",
    "a = \"python is the best choice\"\n",
    "print(a.find(\"b\"))\n",
    "print(a.find(\"k\"))\n"
   ]
  },
  {
   "cell_type": "code",
   "execution_count": 110,
   "metadata": {},
   "outputs": [
    {
     "name": "stdout",
     "output_type": "stream",
     "text": [
      "8\n"
     ]
    },
    {
     "ename": "ValueError",
     "evalue": "substring not found",
     "output_type": "error",
     "traceback": [
      "\u001b[1;31m---------------------------------------------------------------------------\u001b[0m",
      "\u001b[1;31mValueError\u001b[0m                                Traceback (most recent call last)",
      "Cell \u001b[1;32mIn[110], line 4\u001b[0m\n\u001b[0;32m      2\u001b[0m a \u001b[38;5;241m=\u001b[39m \u001b[38;5;124m\"\u001b[39m\u001b[38;5;124mlife is too short\u001b[39m\u001b[38;5;124m\"\u001b[39m\n\u001b[0;32m      3\u001b[0m \u001b[38;5;28mprint\u001b[39m(a\u001b[38;5;241m.\u001b[39mindex(\u001b[38;5;124m\"\u001b[39m\u001b[38;5;124mt\u001b[39m\u001b[38;5;124m\"\u001b[39m)) \n\u001b[1;32m----> 4\u001b[0m \u001b[38;5;28mprint\u001b[39m(\u001b[43ma\u001b[49m\u001b[38;5;241;43m.\u001b[39;49m\u001b[43mindex\u001b[49m\u001b[43m(\u001b[49m\u001b[38;5;124;43m\"\u001b[39;49m\u001b[38;5;124;43mk\u001b[39;49m\u001b[38;5;124;43m\"\u001b[39;49m\u001b[43m)\u001b[49m) \n",
      "\u001b[1;31mValueError\u001b[0m: substring not found"
     ]
    }
   ],
   "source": [
    "# 위치 알려주기 (find와 다르게 찾는 값이 없는 경우 오류발생)\n",
    "a = \"life is too short\"\n",
    "print(a.index(\"t\")) \n",
    "print(a.index(\"k\")) "
   ]
  },
  {
   "cell_type": "code",
   "execution_count": 113,
   "metadata": {},
   "outputs": [
    {
     "name": "stdout",
     "output_type": "stream",
     "text": [
      "h,e,l,l,o\n",
      "h/e/l/l/o\n"
     ]
    }
   ],
   "source": [
    "# 문자열 삽입 join\n",
    "\n",
    "print(\",\".join(\"hello\"))\n",
    "print(\"/\".join(\"hello\"))"
   ]
  },
  {
   "cell_type": "code",
   "execution_count": 115,
   "metadata": {},
   "outputs": [
    {
     "name": "stdout",
     "output_type": "stream",
     "text": [
      "HI\n"
     ]
    }
   ],
   "source": [
    "# upper()\n",
    "a = \"hi\"\n",
    "print(a.upper())"
   ]
  },
  {
   "cell_type": "code",
   "execution_count": 116,
   "metadata": {},
   "outputs": [
    {
     "name": "stdout",
     "output_type": "stream",
     "text": [
      "hello\n"
     ]
    }
   ],
   "source": [
    "#  lower(\n",
    "b = \"HELLO\"\n",
    "print(b.lower())"
   ]
  },
  {
   "cell_type": "code",
   "execution_count": 124,
   "metadata": {},
   "outputs": [
    {
     "name": "stdout",
     "output_type": "stream",
     "text": [
      "hi     \n",
      "|hi     |\n"
     ]
    }
   ],
   "source": [
    "#  왼쪽 공백 지우기 lstrip()\n",
    "a = \"     hi     \"\n",
    "print(a.lstrip())\n",
    "print(f\"|{a.lstrip()}|\")"
   ]
  },
  {
   "cell_type": "code",
   "execution_count": 126,
   "metadata": {},
   "outputs": [
    {
     "name": "stdout",
     "output_type": "stream",
     "text": [
      "|     hi|\n"
     ]
    }
   ],
   "source": [
    "#  오른쪽 공백 지우기 rstrip()\n",
    "a = \"     hi     \"\n",
    "print(f\"|{a.rstrip()}|\")"
   ]
  },
  {
   "cell_type": "code",
   "execution_count": 127,
   "metadata": {},
   "outputs": [
    {
     "name": "stdout",
     "output_type": "stream",
     "text": [
      "your leg is too short\n"
     ]
    }
   ],
   "source": [
    "# 문자열 바꾸기 replace\n",
    "a = \"life is too short\"\n",
    "print(a.replace(\"life\", \"your leg\"))"
   ]
  },
  {
   "cell_type": "code",
   "execution_count": 138,
   "metadata": {},
   "outputs": [
    {
     "name": "stdout",
     "output_type": "stream",
     "text": [
      "['life', 'is', 'too', 'short']\n",
      "['life is too short']\n",
      "['집', '가고', '싶다']\n",
      "['집', '가고', '싶다']\n"
     ]
    }
   ],
   "source": [
    "#  문자열 나누기 split\n",
    "a = \"life is too short\"\n",
    "print(a.split())\n",
    "print(a.split(\":\"))\n",
    "b = \"집:가고:싶다\"\n",
    "print(b.split(\":\"))\n",
    "c = \"집,가고,싶다\"\n",
    "print(c.split(\",\"))\n"
   ]
  },
  {
   "cell_type": "code",
   "execution_count": null,
   "metadata": {},
   "outputs": [],
   "source": []
  }
 ],
 "metadata": {
  "kernelspec": {
   "display_name": "Python 3",
   "language": "python",
   "name": "python3"
  },
  "language_info": {
   "codemirror_mode": {
    "name": "ipython",
    "version": 3
   },
   "file_extension": ".py",
   "mimetype": "text/x-python",
   "name": "python",
   "nbconvert_exporter": "python",
   "pygments_lexer": "ipython3",
   "version": "3.12.4"
  }
 },
 "nbformat": 4,
 "nbformat_minor": 2
}
