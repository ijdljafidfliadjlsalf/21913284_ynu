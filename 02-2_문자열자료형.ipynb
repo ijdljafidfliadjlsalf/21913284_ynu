{
 "cells": [
  {
   "cell_type": "markdown",
   "metadata": {},
   "source": []
  },
  {
   "cell_type": "markdown",
   "metadata": {},
   "source": [
    "### 문자열은 어떻게 사용할까\n",
    "\n",
    "- \"문자열\" "
   ]
  },
  {
   "cell_type": "code",
   "execution_count": 2,
   "metadata": {},
   "outputs": [
    {
     "name": "stdout",
     "output_type": "stream",
     "text": [
      "hello world\n",
      "<class 'str'>\n"
     ]
    }
   ],
   "source": [
    "# 큰 따옴표 \n",
    "a = \"hello world\"\n",
    "print(a)\n",
    "print(type(a))"
   ]
  },
  {
   "cell_type": "code",
   "execution_count": 3,
   "metadata": {},
   "outputs": [
    {
     "name": "stdout",
     "output_type": "stream",
     "text": [
      "python is fun\n",
      "<class 'str'>\n"
     ]
    }
   ],
   "source": [
    "# 작은 따옴표\n",
    "b = 'python is fun'\n",
    "print(b)\n",
    "print(type(b))"
   ]
  },
  {
   "cell_type": "code",
   "execution_count": 5,
   "metadata": {},
   "outputs": [
    {
     "name": "stdout",
     "output_type": "stream",
     "text": [
      " \n",
      "Life is too short, you need python\n",
      "<class 'str'>\n"
     ]
    }
   ],
   "source": [
    "# 큰 따옴표 3개(한 후 스페이스바로 하면 쉽게 정리가능)\n",
    "c = \"\"\" \n",
    "Life is too short, you need python\"\"\" \n",
    "\n",
    "print(c)\n",
    "print(type(c))"
   ]
  },
  {
   "cell_type": "code",
   "execution_count": 6,
   "metadata": {},
   "outputs": [
    {
     "name": "stdout",
     "output_type": "stream",
     "text": [
      " Life is too short, you need python\n",
      "<class 'str'>\n"
     ]
    }
   ],
   "source": [
    "# 작은 따옴표 3개\n",
    "d = ''' Life is too short, you need python'''\n",
    "\n",
    "print(d)\n",
    "print(type(d))"
   ]
  },
  {
   "cell_type": "code",
   "execution_count": 7,
   "metadata": {},
   "outputs": [
    {
     "name": "stdout",
     "output_type": "stream",
     "text": [
      "python's favorite food is perl\n"
     ]
    }
   ],
   "source": [
    "food = \"python's favorite food is perl\"\n",
    "print(food)"
   ]
  },
  {
   "cell_type": "code",
   "execution_count": 8,
   "metadata": {},
   "outputs": [
    {
     "ename": "SyntaxError",
     "evalue": "unterminated string literal (detected at line 1) (2554431777.py, line 1)",
     "output_type": "error",
     "traceback": [
      "\u001b[1;36m  Cell \u001b[1;32mIn[8], line 1\u001b[1;36m\u001b[0m\n\u001b[1;33m    food = 'python's favorite food is perl'\u001b[0m\n\u001b[1;37m                                          ^\u001b[0m\n\u001b[1;31mSyntaxError\u001b[0m\u001b[1;31m:\u001b[0m unterminated string literal (detected at line 1)\n"
     ]
    }
   ],
   "source": [
    "food = 'python's favorite food is perl'\n",
    "print(food)  "
   ]
  },
  {
   "cell_type": "code",
   "execution_count": 11,
   "metadata": {},
   "outputs": [
    {
     "name": "stdout",
     "output_type": "stream",
     "text": [
      "\"python is very easy.\" he says.\n"
     ]
    }
   ],
   "source": [
    "say = '\"python is very easy.\" he says.' \n",
    "\n",
    "\n",
    "print(say)"
   ]
  },
  {
   "cell_type": "code",
   "execution_count": 15,
   "metadata": {},
   "outputs": [
    {
     "name": "stdout",
     "output_type": "stream",
     "text": [
      "python's faorite food is perl\n",
      "\"python is very easy.\" he says.\n"
     ]
    }
   ],
   "source": [
    "food = 'python\\'s faorite food is perl' \n",
    "say = \"\\\"python is very easy.\\\" he says.\"\n",
    "print (food) \n",
    "print(say)"
   ]
  },
  {
   "cell_type": "markdown",
   "metadata": {},
   "source": []
  },
  {
   "cell_type": "markdown",
   "metadata": {},
   "source": [
    "### 여러 줄 문자열 표현"
   ]
  },
  {
   "cell_type": "code",
   "execution_count": 16,
   "metadata": {},
   "outputs": [
    {
     "name": "stdout",
     "output_type": "stream",
     "text": [
      "Life is too short\n",
      "You need python\n"
     ]
    }
   ],
   "source": [
    "# 이스케이프 코드 \\n(줄바꿈 코드)\n",
    "\n",
    "multiline = \"Life is too short\\nYou need python\"\n",
    "print(multiline)"
   ]
  },
  {
   "cell_type": "code",
   "execution_count": 20,
   "metadata": {},
   "outputs": [
    {
     "name": "stdout",
     "output_type": "stream",
     "text": [
      "\n",
      "    \"Life\" is too short\n",
      "    You need python\n",
      "\n"
     ]
    }
   ],
   "source": [
    "# 작은따옴표3개, 큰따옴표3개 활용\n",
    "\n",
    "multiline = '''\n",
    "    \"Life\" is too short\n",
    "    You need python\n",
    "'''\n",
    "\n",
    "print(multiline)"
   ]
  },
  {
   "cell_type": "markdown",
   "metadata": {},
   "source": [
    "### 문자열 연산\n"
   ]
  },
  {
   "cell_type": "code",
   "execution_count": 23,
   "metadata": {},
   "outputs": [
    {
     "name": "stdout",
     "output_type": "stream",
     "text": [
      "python is fun!\n"
     ]
    }
   ],
   "source": [
    "# 문자열 더하기\n",
    "\n",
    "head = \"python\" \n",
    "tail = \" is fun!\"\n",
    "\n",
    "print(head +tail)"
   ]
  },
  {
   "cell_type": "code",
   "execution_count": 25,
   "metadata": {},
   "outputs": [
    {
     "name": "stdout",
     "output_type": "stream",
     "text": [
      "pythonpythonpythonpythonpython\n"
     ]
    }
   ],
   "source": [
    "# 문자열 곱하기\n",
    "\n",
    "a = \"python\" \n",
    "print(a * 5)\n"
   ]
  },
  {
   "cell_type": "code",
   "execution_count": 26,
   "metadata": {},
   "outputs": [
    {
     "name": "stdout",
     "output_type": "stream",
     "text": [
      "=================================\n",
      "==================================================\n",
      "My Program\n",
      "=======================================================\n"
     ]
    }
   ],
   "source": [
    "print(\"=================================\")\n",
    "print(\"=\" * 50)\n",
    "print(\"My Program\")\n",
    "print(\"=\" * 55)"
   ]
  },
  {
   "cell_type": "code",
   "execution_count": 27,
   "metadata": {},
   "outputs": [
    {
     "data": {
      "text/plain": [
       "17"
      ]
     },
     "execution_count": 27,
     "metadata": {},
     "output_type": "execute_result"
    }
   ],
   "source": [
    "# 문자열 길이 구하기 len()\n",
    "\n",
    "a = \"Life is too short\"\n",
    "len(a)"
   ]
  },
  {
   "cell_type": "code",
   "execution_count": 29,
   "metadata": {},
   "outputs": [
    {
     "data": {
      "text/plain": [
       "7"
      ]
     },
     "execution_count": 29,
     "metadata": {},
     "output_type": "execute_result"
    }
   ],
   "source": [
    "b = \"p yhton\"\n",
    "len(b)"
   ]
  },
  {
   "cell_type": "markdown",
   "metadata": {},
   "source": [
    "### 문자열 인덱싱과 슬라이싱"
   ]
  },
  {
   "cell_type": "code",
   "execution_count": 38,
   "metadata": {},
   "outputs": [
    {
     "name": "stdout",
     "output_type": "stream",
     "text": [
      "34\n",
      "l\n",
      "i\n",
      "f\n",
      "e\n",
      "n\n",
      "life\n"
     ]
    }
   ],
   "source": [
    "a = \"life is too short, you need python\" \n",
    "\n",
    "print(len(a))\n",
    "print(a[0])\n",
    "print(a[1])\n",
    "print(a[2])\n",
    "print(a[3])\n",
    "print(a[-1])\n",
    "print(a[0] + a[1] + a[2] + a[3])"
   ]
  },
  {
   "cell_type": "code",
   "execution_count": 41,
   "metadata": {},
   "outputs": [
    {
     "name": "stdout",
     "output_type": "stream",
     "text": [
      "life\n",
      "life is\n",
      "short\n"
     ]
    }
   ],
   "source": [
    "a = \"life is too short, you need python\" \n",
    "\n",
    "print(a[0:4])\n",
    "print(a[0:7])\n",
    "print(a[12:17])"
   ]
  },
  {
   "cell_type": "code",
   "execution_count": 47,
   "metadata": {},
   "outputs": [
    {
     "name": "stdout",
     "output_type": "stream",
     "text": [
      "you need python\n",
      " need python\n",
      "life is too short\n",
      "life is too short\n",
      "you need python\n",
      "you need python\n",
      " need python\n",
      "life is too short\n",
      "life is too short\n",
      "you need python\n",
      "life is too short, you need python\n",
      "life is too short, you need python\n"
     ]
    }
   ],
   "source": [
    "a = \"life is too short, you need python\" \n",
    "\n",
    "print(a[19:])\n",
    "print(a[22:])\n",
    "print(a[0:17])\n",
    "print(a[:17])\n",
    "print(a[19:34])\n",
    "\n",
    "print(a[19:])\n",
    "print(a[22:])\n",
    "print(a[0:17])\n",
    "print(a[:17])\n",
    "print(a[19:34])\n",
    "\n",
    "print(a)\n",
    "print(a[:])"
   ]
  },
  {
   "cell_type": "code",
   "execution_count": 49,
   "metadata": {},
   "outputs": [
    {
     "name": "stdout",
     "output_type": "stream",
     "text": [
      "2024\n",
      "0806\n",
      "Sunny\n"
     ]
    }
   ],
   "source": [
    " a = \"20240806Sunny\"\n",
    "\n",
    "year = a[0:4]\n",
    "day = a[4:8]\n",
    "weather = a[8:]\n",
    "\n",
    "print(year)\n",
    "print(day)\n",
    "print(weather)\n",
    "\n",
    "\n",
    " "
   ]
  },
  {
   "cell_type": "markdown",
   "metadata": {},
   "source": [
    "퀴즈 1 \n",
    "* 출력값을 2024년 08월 06일, 오늘의 날씨는 sunny 입니다.\n",
    " a = \"20240806Sunny\"\n",
    "\n"
   ]
  },
  {
   "cell_type": "code",
   "execution_count": 53,
   "metadata": {},
   "outputs": [
    {
     "ename": "SyntaxError",
     "evalue": "invalid syntax. Perhaps you forgot a comma? (3166843074.py, line 10)",
     "output_type": "error",
     "traceback": [
      "\u001b[1;36m  Cell \u001b[1;32mIn[53], line 10\u001b[1;36m\u001b[0m\n\u001b[1;33m    print(f\"{year}년\" {month}월 {day}일, \"오늘의 날씨는 \"{weather} 입니다)\u001b[0m\n\u001b[1;37m          ^\u001b[0m\n\u001b[1;31mSyntaxError\u001b[0m\u001b[1;31m:\u001b[0m invalid syntax. Perhaps you forgot a comma?\n"
     ]
    }
   ],
   "source": [
    " a = \"20240806Sunny\"\n",
    "\n",
    "year = a[0:4]\n",
    "month = a[4:6]\n",
    "day = a[6:8]\n",
    "weather = a[8:]\n",
    "\n",
    "\n",
    "\n",
    "print(f\"{year}년\" {month}월 {day}일, \"오늘의 날씨는 \"{weather} 입니다)\n",
    "\n",
    "\n"
   ]
  },
  {
   "cell_type": "code",
   "execution_count": 56,
   "metadata": {},
   "outputs": [
    {
     "ename": "NameError",
     "evalue": "name 'y' is not defined",
     "output_type": "error",
     "traceback": [
      "\u001b[1;31m---------------------------------------------------------------------------\u001b[0m",
      "\u001b[1;31mNameError\u001b[0m                                 Traceback (most recent call last)",
      "Cell \u001b[1;32mIn[56], line 3\u001b[0m\n\u001b[0;32m      1\u001b[0m a \u001b[38;5;241m=\u001b[39m \u001b[38;5;124m\"\u001b[39m\u001b[38;5;124mpithon\u001b[39m\u001b[38;5;124m\"\u001b[39m\n\u001b[1;32m----> 3\u001b[0m a[\u001b[38;5;241m1\u001b[39m] \u001b[38;5;241m=\u001b[39m \u001b[43my\u001b[49m\n\u001b[0;32m      5\u001b[0m \u001b[38;5;28mprint\u001b[39m(a)\n",
      "\u001b[1;31mNameError\u001b[0m: name 'y' is not defined"
     ]
    }
   ],
   "source": [
    "a = \"pithon\"\n",
    "\n",
    "a[1] = y\n",
    "\n",
    "print(a)"
   ]
  },
  {
   "cell_type": "code",
   "execution_count": 58,
   "metadata": {},
   "outputs": [
    {
     "name": "stdout",
     "output_type": "stream",
     "text": [
      "python\n",
      "pithon\n"
     ]
    }
   ],
   "source": [
    "a = \"pithon\"\n",
    "\n",
    "print(a[0] + \"y\" + a[2:])\n",
    "print(a)"
   ]
  },
  {
   "cell_type": "code",
   "execution_count": null,
   "metadata": {},
   "outputs": [],
   "source": []
  }
 ],
 "metadata": {
  "kernelspec": {
   "display_name": "Python 3",
   "language": "python",
   "name": "python3"
  },
  "language_info": {
   "codemirror_mode": {
    "name": "ipython",
    "version": 3
   },
   "file_extension": ".py",
   "mimetype": "text/x-python",
   "name": "python",
   "nbconvert_exporter": "python",
   "pygments_lexer": "ipython3",
   "version": "3.12.4"
  }
 },
 "nbformat": 4,
 "nbformat_minor": 2
}
