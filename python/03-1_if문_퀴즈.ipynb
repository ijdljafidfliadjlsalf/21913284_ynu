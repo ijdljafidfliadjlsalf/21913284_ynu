{
 "cells": [
  {
   "cell_type": "markdown",
   "metadata": {},
   "source": [
    "1. 주어진 세 개의 변수를 사용하여 다음 조건을 모두 만족하는 경우에만 \"Hello Python\"을 출력하는 코드를 작성하세요.\n",
    "* x는 짝수여야 한다.\n",
    "* y는 0보다 커야 한다.\n",
    "* z는 x와 y의 합보다 작아야 한다."
   ]
  },
  {
   "cell_type": "code",
   "execution_count": 22,
   "metadata": {},
   "outputs": [
    {
     "name": "stdout",
     "output_type": "stream",
     "text": [
      "Hello Python\n"
     ]
    }
   ],
   "source": [
    "# 정답\n",
    "x = 8\n",
    "y = 5\n",
    "z = 12\n",
    "\n",
    "x % 2 == 0\n",
    "y > 0\n",
    "z < x + y\n",
    "\n",
    "if x%2 == 0 and y > 0 and z < x+y:\n",
    "    print(\"Hello Python\")\n",
    " \n"
   ]
  },
  {
   "cell_type": "code",
   "execution_count": 6,
   "metadata": {},
   "outputs": [
    {
     "ename": "IndentationError",
     "evalue": "expected an indented block after 'elif' statement on line 8 (2648327581.py, line 9)",
     "output_type": "error",
     "traceback": [
      "\u001b[1;36m  Cell \u001b[1;32mIn[6], line 9\u001b[1;36m\u001b[0m\n\u001b[1;33m    print(\"Hello Python\")\u001b[0m\n\u001b[1;37m    ^\u001b[0m\n\u001b[1;31mIndentationError\u001b[0m\u001b[1;31m:\u001b[0m expected an indented block after 'elif' statement on line 8\n"
     ]
    }
   ],
   "source": [
    "a = 8\n",
    "b = 5\n",
    "c = 12\n",
    "if a % 2:\n",
    "    pass\n",
    "elif b>0:\n",
    "    pass\n",
    "elif c<a+b:\n",
    "print(\"Hello Python\")\n",
    "else:\n",
    "print(\"goodbye\")"
   ]
  },
  {
   "cell_type": "markdown",
   "metadata": {},
   "source": [
    "2. 사용자로 부터 숫자가 짝수이면 \"짝수!\" 홀수 이면 \"홀수\"라고 출력하세요 "
   ]
  },
  {
   "cell_type": "code",
   "execution_count": 23,
   "metadata": {},
   "outputs": [
    {
     "name": "stdout",
     "output_type": "stream",
     "text": [
      "홀수\n"
     ]
    }
   ],
   "source": [
    "# 정답\n",
    "\n",
    "num = int(input(\"숫자를 입력하세요\"))\n",
    "if num % 2 == 0:\n",
    "    print(\"짝수\")\n",
    "else:\n",
    "    print(\"홀수\")\n"
   ]
  },
  {
   "cell_type": "code",
   "execution_count": 9,
   "metadata": {},
   "outputs": [
    {
     "name": "stdout",
     "output_type": "stream",
     "text": [
      "홀수\n"
     ]
    }
   ],
   "source": [
    "a = 12\n",
    "if a % 2 :\n",
    "    print(\"짝수\")\n",
    "else:\n",
    "    print(\"홀수\")"
   ]
  },
  {
   "cell_type": "markdown",
   "metadata": {},
   "source": [
    "3. 사용자로 부터 나이를 입력받으세요. 입력받은 수가 19세미만이면 \"미성년자입니다.\" 19세이상 65세미만 이면 \"성인입니다\" 65세이상이면 \"아직 청춘입니다.\" 라고 출력하세요"
   ]
  },
  {
   "cell_type": "code",
   "execution_count": 24,
   "metadata": {},
   "outputs": [
    {
     "name": "stdout",
     "output_type": "stream",
     "text": [
      "성인입니다\n"
     ]
    }
   ],
   "source": [
    "# 정답\n",
    "age = int(input(\"나이를 입력하세요\"))\n",
    "\n",
    "if age < 19:\n",
    "    print(\"미성년자입니다\")\n",
    "elif age >= 19 and age<65:\n",
    "    print(\"성인입니다\")"
   ]
  },
  {
   "cell_type": "code",
   "execution_count": 20,
   "metadata": {},
   "outputs": [
    {
     "name": "stdout",
     "output_type": "stream",
     "text": [
      "25\n",
      "아직 청춘입니다\n"
     ]
    }
   ],
   "source": [
    "print(result)\n",
    "result = int(input(\"나이를 입력해주세요\"))\n",
    "if result >= 19:\n",
    "    print(\"아직 청춘입니다\")\n",
    "elif result<65:\n",
    "    print(\"아직 청춘입니다\")\n",
    "else:\n",
    "    print(\"미성년자입니다\")\n",
    "\n"
   ]
  },
  {
   "cell_type": "markdown",
   "metadata": {},
   "source": [
    "4. 주어진 문자열 text에 특정 단어 keyword가 포함되어 있는지 검사하는 코드를 작성하세요. 포함되어 있으면 \"Keyword found\", 포함되어 있지 않으면 \"Keyword not found\"를 출력하세요."
   ]
  },
  {
   "cell_type": "code",
   "execution_count": 25,
   "metadata": {},
   "outputs": [
    {
     "name": "stdout",
     "output_type": "stream",
     "text": [
      "Keyword found\n"
     ]
    }
   ],
   "source": [
    "# 정답\n",
    "text = \"Life is too short, You need python\"\n",
    "keyword = \"python\"\n",
    "\n",
    "if keyword in text:\n",
    "    print(\"Keyword found\")\n",
    "else:\n",
    "    print(\"Keyword not found\")"
   ]
  },
  {
   "cell_type": "code",
   "execution_count": 26,
   "metadata": {},
   "outputs": [
    {
     "name": "stdout",
     "output_type": "stream",
     "text": [
      "Keyword found\n"
     ]
    }
   ],
   "source": [
    "text = \"Life is too short, You need python\"\n",
    "keyword = \"python\"\n",
    "\n",
    "if keyword in text:\n",
    "    print(\"Keyword found\")\n",
    "else:\n",
    "    print(\"Keyword not found\")"
   ]
  },
  {
   "cell_type": "markdown",
   "metadata": {},
   "source": [
    "5. 주어진 리스트 numbers에서 가장 큰 값이 짝수인지 홀수인지를 판단하는 코드를 작성하세요. 가장 큰 값이 짝수이면 \"가장 큰 수는 짝수입니다!\", 홀수이면 \"가장 큰 수는 홀수입니다\"를 출력하세요."
   ]
  },
  {
   "cell_type": "code",
   "execution_count": 28,
   "metadata": {},
   "outputs": [
    {
     "name": "stdout",
     "output_type": "stream",
     "text": [
      "가장 큰 수는 짝수입니다\n"
     ]
    }
   ],
   "source": [
    "# 정답\n",
    "numbers = [34, 15, 88, 2, 47]\n",
    "\n",
    "if max(numbers) % 2 == 0:\n",
    "    print(\"가장 큰 수는 짝수입니다\")\n",
    "else:\n",
    "    print(\"가장 큰 수는 홀수입니다\")"
   ]
  },
  {
   "cell_type": "markdown",
   "metadata": {},
   "source": [
    "6. 계산기를 만들어주세요. num1, num2에 입력값을 받아주세요. operator 변수는 (+, -, *, /) 중 하나를 입력 받으세요. operator 로 입력받은 값에 따라 num1 과 num2 를 연사하세요 "
   ]
  },
  {
   "cell_type": "code",
   "execution_count": 29,
   "metadata": {},
   "outputs": [
    {
     "name": "stdout",
     "output_type": "stream",
     "text": [
      "50*40 = 2000\n"
     ]
    }
   ],
   "source": [
    "# 정답\n",
    "\n",
    "num1 = int(input(\"숫자를 입력하세요(num1:)\"))\n",
    "num2 = int(input(\"숫자를 입력하세요(num2:)\"))\n",
    "operator = input(\"연산자를 선택해주세요 (+,-,*,/ 중에서):\")\n",
    "\n",
    "if operator == \"+\":\n",
    "    print(f\"{num1}+{num2} = {num1+num2}\")\n",
    "elif operator == \"-\":\n",
    "    print(f\"{num1}-{num2} = {num1-num2}\")\n",
    "elif operator == \"*\":\n",
    "    print(f\"{num1}*{num2} = {num1*num2}\")\n",
    "elif operator == \"/\":\n",
    "    print(f\"{num1}/{num2} = {num1/num2}\")"
   ]
  },
  {
   "cell_type": "code",
   "execution_count": null,
   "metadata": {},
   "outputs": [],
   "source": []
  }
 ],
 "metadata": {
  "kernelspec": {
   "display_name": "Python 3",
   "language": "python",
   "name": "python3"
  },
  "language_info": {
   "codemirror_mode": {
    "name": "ipython",
    "version": 3
   },
   "file_extension": ".py",
   "mimetype": "text/x-python",
   "name": "python",
   "nbconvert_exporter": "python",
   "pygments_lexer": "ipython3",
   "version": "3.12.4"
  }
 },
 "nbformat": 4,
 "nbformat_minor": 2
}
