{
 "cells": [
  {
   "cell_type": "markdown",
   "metadata": {},
   "source": [
    "### p.116"
   ]
  },
  {
   "cell_type": "code",
   "execution_count": 4,
   "metadata": {},
   "outputs": [
    {
     "name": "stdout",
     "output_type": "stream",
     "text": [
      "70.0\n",
      "70.0\n"
     ]
    }
   ],
   "source": [
    "a = 80\n",
    "b = 75\n",
    "c = 55\n",
    "print((a+b+c)/3)\n",
    "\n",
    "ko = 80\n",
    "en = 75\n",
    "ma = 55\n",
    "average = (ko + en + ma)/3\n",
    "print(average)"
   ]
  },
  {
   "cell_type": "code",
   "execution_count": 5,
   "metadata": {},
   "outputs": [
    {
     "name": "stdout",
     "output_type": "stream",
     "text": [
      "False\n"
     ]
    }
   ],
   "source": [
    "num = 13\n",
    "result = num % 2 == 0\n",
    "\n",
    "print(result)\n",
    "\n"
   ]
  },
  {
   "cell_type": "code",
   "execution_count": 7,
   "metadata": {},
   "outputs": [
    {
     "name": "stdout",
     "output_type": "stream",
     "text": [
      "881120\n",
      "1068234\n"
     ]
    }
   ],
   "source": [
    "pin = \"881120-1068234\"\n",
    "yyyymmdd = pin[0:6]\n",
    "num = pin[7:]\n",
    "print(yyyymmdd)\n",
    "print(num)"
   ]
  },
  {
   "cell_type": "code",
   "execution_count": 8,
   "metadata": {},
   "outputs": [
    {
     "name": "stdout",
     "output_type": "stream",
     "text": [
      "1\n"
     ]
    }
   ],
   "source": [
    "pin = \"881120-1068234\"\n",
    "print(pin[7])"
   ]
  },
  {
   "cell_type": "code",
   "execution_count": 9,
   "metadata": {},
   "outputs": [
    {
     "name": "stdout",
     "output_type": "stream",
     "text": [
      "a#b#c#d\n"
     ]
    }
   ],
   "source": [
    "a = \"a:b:c:d\"\n",
    "b = a.replace(\":\",\"#\")\n",
    "print(b)"
   ]
  },
  {
   "cell_type": "code",
   "execution_count": 11,
   "metadata": {},
   "outputs": [
    {
     "name": "stdout",
     "output_type": "stream",
     "text": [
      "[5, 4, 3, 2, 1]\n"
     ]
    }
   ],
   "source": [
    "a = [1,3,5,4,2]\n",
    "a.sort()\n",
    "a.reverse()\n",
    "print(a)"
   ]
  },
  {
   "cell_type": "code",
   "execution_count": 13,
   "metadata": {},
   "outputs": [
    {
     "name": "stdout",
     "output_type": "stream",
     "text": [
      "life is too short\n"
     ]
    }
   ],
   "source": [
    "a = [\"life\",\"is\",\"too\",\"short\"]\n",
    "result = \" \".join(a)\n",
    "print(result)"
   ]
  },
  {
   "cell_type": "code",
   "execution_count": 14,
   "metadata": {},
   "outputs": [
    {
     "name": "stdout",
     "output_type": "stream",
     "text": [
      "(1, 2, 3, 4)\n"
     ]
    }
   ],
   "source": [
    "a = (1,2,3)\n",
    "a = a + (4,)\n",
    "print(a)"
   ]
  },
  {
   "cell_type": "code",
   "execution_count": 1,
   "metadata": {},
   "outputs": [
    {
     "name": "stdout",
     "output_type": "stream",
     "text": [
      "돈을 받았으니 커피를 준다\n",
      "남은 커피의 양은 9입니다.\n",
      "돈을 받았으니 커피를 준다\n",
      "남은 커피의 양은 8입니다.\n",
      "돈을 받았으니 커피를 준다\n",
      "남은 커피의 양은 7입니다.\n",
      "돈을 받았으니 커피를 준다\n",
      "남은 커피의 양은 6입니다.\n",
      "돈을 받았으니 커피를 준다\n",
      "남은 커피의 양은 5입니다.\n",
      "돈을 받았으니 커피를 준다\n",
      "남은 커피의 양은 4입니다.\n",
      "돈을 받았으니 커피를 준다\n",
      "남은 커피의 양은 3입니다.\n",
      "돈을 받았으니 커피를 준다\n",
      "남은 커피의 양은 2입니다.\n",
      "돈을 받았으니 커피를 준다\n",
      "남은 커피의 양은 1입니다.\n",
      "돈을 받았으니 커피를 준다\n",
      "남은 커피의 양은 0입니다.\n",
      "커피가 다 떨어졌습니다. 판매를 중지합니다\n"
     ]
    }
   ],
   "source": [
    "# while문 강제로 빠져나가기\n",
    "\n",
    "coffee = 10\n",
    "money = 300\n",
    "while money:\n",
    "    print(\"돈을 받았으니 커피를 준다\")\n",
    "    coffee = coffee - 1\n",
    "    print(\"남은 커피의 양은 %d입니다.\" % coffee)\n",
    "    if coffee == 0:\n",
    "        print(\"커피가 다 떨어졌습니다. 판매를 중지합니다\")\n",
    "        break"
   ]
  },
  {
   "cell_type": "code",
   "execution_count": 17,
   "metadata": {},
   "outputs": [
    {
     "ename": "ValueError",
     "evalue": "invalid literal for int() with base 10: ''",
     "output_type": "error",
     "traceback": [
      "\u001b[1;31m---------------------------------------------------------------------------\u001b[0m",
      "\u001b[1;31mValueError\u001b[0m                                Traceback (most recent call last)",
      "Cell \u001b[1;32mIn[17], line 3\u001b[0m\n\u001b[0;32m      1\u001b[0m coffee \u001b[38;5;241m=\u001b[39m \u001b[38;5;241m4\u001b[39m\n\u001b[0;32m      2\u001b[0m \u001b[38;5;28;01mwhile\u001b[39;00m \u001b[38;5;28;01mTrue\u001b[39;00m:\n\u001b[1;32m----> 3\u001b[0m     money \u001b[38;5;241m=\u001b[39m \u001b[38;5;28;43mint\u001b[39;49m\u001b[43m(\u001b[49m\u001b[38;5;28;43minput\u001b[39;49m\u001b[43m(\u001b[49m\u001b[38;5;124;43m\"\u001b[39;49m\u001b[38;5;124;43m돈을 넣어주세요\u001b[39;49m\u001b[38;5;124;43m\"\u001b[39;49m\u001b[43m)\u001b[49m\u001b[43m)\u001b[49m\n\u001b[0;32m      5\u001b[0m     \u001b[38;5;28;01mif\u001b[39;00m money \u001b[38;5;241m==\u001b[39m \u001b[38;5;241m300\u001b[39m:\n\u001b[0;32m      6\u001b[0m         \u001b[38;5;28mprint\u001b[39m(\u001b[38;5;124m\"\u001b[39m\u001b[38;5;124m커피를 줍니다\u001b[39m\u001b[38;5;124m\"\u001b[39m)\n",
      "\u001b[1;31mValueError\u001b[0m: invalid literal for int() with base 10: ''"
     ]
    }
   ],
   "source": [
    "coffee = 4\n",
    "while True:\n",
    "    money = int(input(\"돈을 넣어주세요\"))\n",
    "\n",
    "    if money == 300:\n",
    "        print(\"커피를 줍니다\")\n",
    "        coffee = coffee -1\n",
    "    elif money > 300:\n",
    "        print(f\"거스름돈 {money - 300}을 주고, 커피를 줍니다\")\n",
    "        coffee =  coffee -1\n",
    "    else:\n",
    "     print(\"돈을 돌려주고, 커피를 주지 않습니다\")\n",
    "     print(f\"남은 커피의 양은 {coffee}개 입니다\")\n",
    "if coffee == 0:\n",
    "    print(\"커피가 다 떨어졌습니다. 판매를 중지합니다\")\n",
    "    break"
   ]
  },
  {
   "cell_type": "code",
   "execution_count": 18,
   "metadata": {},
   "outputs": [
    {
     "name": "stdout",
     "output_type": "stream",
     "text": [
      "2\n",
      "4\n",
      "6\n",
      "8\n",
      "10\n"
     ]
    }
   ],
   "source": [
    "# while 문의 맨 처음으로 돌아가기 continue\n",
    "\n",
    "a = 0 \n",
    "while a< 10:\n",
    "    a = a+1\n",
    "    if a%2 == 0:\n",
    "        print(a)"
   ]
  },
  {
   "cell_type": "code",
   "execution_count": null,
   "metadata": {},
   "outputs": [],
   "source": []
  }
 ],
 "metadata": {
  "kernelspec": {
   "display_name": "Python 3",
   "language": "python",
   "name": "python3"
  },
  "language_info": {
   "codemirror_mode": {
    "name": "ipython",
    "version": 3
   },
   "file_extension": ".py",
   "mimetype": "text/x-python",
   "name": "python",
   "nbconvert_exporter": "python",
   "pygments_lexer": "ipython3",
   "version": "3.12.4"
  }
 },
 "nbformat": 4,
 "nbformat_minor": 2
}
