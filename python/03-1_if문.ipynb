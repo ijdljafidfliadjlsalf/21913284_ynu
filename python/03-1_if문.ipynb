{
 "cells": [
  {
   "cell_type": "markdown",
   "metadata": {},
   "source": [
    "### if문은 왜 필요할까?\n",
    "* 돈이 있으면 택시를 타고 가고,돈이 없으면 걸어간다"
   ]
  },
  {
   "cell_type": "code",
   "execution_count": 1,
   "metadata": {},
   "outputs": [
    {
     "name": "stdout",
     "output_type": "stream",
     "text": [
      "택시타고 가\n"
     ]
    }
   ],
   "source": [
    "#  powerbi\n",
    "# If(logical_test, values_if_true, values_if_false)\n",
    "\n",
    "money = True\n",
    "if money:print(\"택시타고 가\")\n",
    "else:print(\"걸어가\")"
   ]
  },
  {
   "cell_type": "code",
   "execution_count": 5,
   "metadata": {},
   "outputs": [
    {
     "data": {
      "text/plain": [
       "False"
      ]
     },
     "execution_count": 5,
     "metadata": {},
     "output_type": "execute_result"
    }
   ],
   "source": [
    "x=1\n",
    "y=2\n",
    "x>y\n",
    "x==y\n",
    "x != y\n",
    "x>=y"
   ]
  },
  {
   "cell_type": "code",
   "execution_count": 6,
   "metadata": {},
   "outputs": [
    {
     "name": "stdout",
     "output_type": "stream",
     "text": [
      "택시타고 가\n"
     ]
    }
   ],
   "source": [
    "# and, or ,not\n",
    "# 돈이 3000원 이상 있거나 카드가 있다면 택시를 타고, 그렇지 않으면 걸어\n",
    "money = 2000\n",
    "card = True\n",
    "if money >=3000 or card:\n",
    "    print(\"택시타고 가\")\n",
    "else:\n",
    "    print(\"걸어가\")"
   ]
  },
  {
   "cell_type": "code",
   "execution_count": 11,
   "metadata": {},
   "outputs": [
    {
     "data": {
      "text/plain": [
       "False"
      ]
     },
     "execution_count": 11,
     "metadata": {},
     "output_type": "execute_result"
    }
   ],
   "source": [
    "1 in [1,2,3]\n",
    "1 not in [1,2,3]\n",
    "\n",
    "\"a\" in [\"a\",\"b\",\"c\"]\n",
    "\"a\" not in [\"a\",\"b\",\"c\"]"
   ]
  },
  {
   "cell_type": "code",
   "execution_count": 13,
   "metadata": {},
   "outputs": [
    {
     "name": "stdout",
     "output_type": "stream",
     "text": [
      "택시타고 가\n"
     ]
    }
   ],
   "source": [
    "poket = [\"paper\",\"cellphone\",\"money\"]\n",
    "if \"money\" in poket:\n",
    "    print(\"택시타고 가\")\n",
    "else:\n",
    "    print(\"걸어가\")"
   ]
  },
  {
   "cell_type": "code",
   "execution_count": 14,
   "metadata": {},
   "outputs": [
    {
     "name": "stdout",
     "output_type": "stream",
     "text": [
      "걸어가\n"
     ]
    }
   ],
   "source": [
    "poket = [\"paper\",\"cellphone\",\"money\"]\n",
    "if \"money\" not in poket:\n",
    "    print(\"택시타고 가\")\n",
    "else:\n",
    "    print(\"걸어가\")"
   ]
  },
  {
   "cell_type": "code",
   "execution_count": 17,
   "metadata": {},
   "outputs": [
    {
     "name": "stdout",
     "output_type": "stream",
     "text": [
      "일하자\n"
     ]
    }
   ],
   "source": [
    "# 주머니에 돈 있으면 가만히 있고, 없으면 일하자\n",
    "poket = [\"money\",\"cellphone\", \"paper\"]\n",
    "if \"money\" not in poket:\n",
    "    pass\n",
    "else:\n",
    "    print(\"일하자\")"
   ]
  },
  {
   "cell_type": "code",
   "execution_count": 20,
   "metadata": {},
   "outputs": [
    {
     "name": "stdout",
     "output_type": "stream",
     "text": [
      "택시타자\n"
     ]
    }
   ],
   "source": [
    "# 다양한 조건_elif\n",
    "# 주머니에 돈이 있으면 택시 타고, 돈없어도 카드 있으면 택시타고, 둘다 없으면 걸어가자\n",
    "poket = [\"paper\",\"cellphone\"]\n",
    "card = True\n",
    "if \"money\" in poket:\n",
    "    print(\"택시타자\")\n",
    "else:\n",
    "    if card == True:\n",
    "        print(\"택시타자\")\n",
    "    else:\n",
    "        print(\"걸어가자\")\n"
   ]
  },
  {
   "cell_type": "code",
   "execution_count": 22,
   "metadata": {},
   "outputs": [
    {
     "name": "stdout",
     "output_type": "stream",
     "text": [
      "택시타자2\n"
     ]
    }
   ],
   "source": [
    "poket = [\"paper\",\"cellphone\"]\n",
    "card = True\n",
    "if \"money\" in poket:\n",
    "    print(\"택시타자1\")\n",
    "elif card == True:\n",
    "    print(\"택시타자2\")\n",
    "else:\n",
    "    print(\"걸어가자\")"
   ]
  },
  {
   "cell_type": "code",
   "execution_count": 23,
   "metadata": {},
   "outputs": [
    {
     "name": "stdout",
     "output_type": "stream",
     "text": [
      "걸어가자\n"
     ]
    }
   ],
   "source": [
    "poket = [\"paper\",\"cellphone\"]\n",
    "card = False\n",
    "if \"money\" in poket:\n",
    "    print(\"택시타자1\")\n",
    "elif card == True:\n",
    "    print(\"택시타자2\")\n",
    "else:\n",
    "    print(\"걸어가자\")"
   ]
  },
  {
   "cell_type": "code",
   "execution_count": 25,
   "metadata": {},
   "outputs": [],
   "source": [
    "#  if문 한줄로 \n",
    "pocket = [\"money\",\"cellphone\", \"paper\"]\n",
    "\n",
    "if \"money\" in pocket:\n",
    "    pass\n",
    "else:\n",
    "    print(\"카드 꺼내\")\n",
    "\n"
   ]
  },
  {
   "cell_type": "code",
   "execution_count": 26,
   "metadata": {},
   "outputs": [
    {
     "name": "stdout",
     "output_type": "stream",
     "text": [
      "카드꺼내\n"
     ]
    }
   ],
   "source": [
    "if \" money\" in pocket:pass\n",
    "else:print(\"카드꺼내\")"
   ]
  },
  {
   "cell_type": "code",
   "execution_count": 35,
   "metadata": {},
   "outputs": [],
   "source": [
    "score = 60\n",
    "if score>60:\n",
    "    message = \"합격\" \n",
    "else:\n",
    "    message = \"불합격\""
   ]
  },
  {
   "cell_type": "code",
   "execution_count": null,
   "metadata": {},
   "outputs": [],
   "source": []
  }
 ],
 "metadata": {
  "kernelspec": {
   "display_name": "Python 3",
   "language": "python",
   "name": "python3"
  },
  "language_info": {
   "codemirror_mode": {
    "name": "ipython",
    "version": 3
   },
   "file_extension": ".py",
   "mimetype": "text/x-python",
   "name": "python",
   "nbconvert_exporter": "python",
   "pygments_lexer": "ipython3",
   "version": "3.12.4"
  }
 },
 "nbformat": 4,
 "nbformat_minor": 2
}
