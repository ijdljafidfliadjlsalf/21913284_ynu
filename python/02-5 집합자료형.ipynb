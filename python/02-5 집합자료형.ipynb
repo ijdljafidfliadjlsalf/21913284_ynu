{
 "cells": [
  {
   "cell_type": "markdown",
   "metadata": {},
   "source": [
    "### 집합자료형\n",
    "*중복을 허용하지 않는다\n",
    "*순서가 없다"
   ]
  },
  {
   "cell_type": "code",
   "execution_count": 7,
   "metadata": {},
   "outputs": [
    {
     "name": "stdout",
     "output_type": "stream",
     "text": [
      "<class 'set'>\n"
     ]
    },
    {
     "data": {
      "text/plain": [
       "{'가', '고', '집'}"
      ]
     },
     "execution_count": 7,
     "metadata": {},
     "output_type": "execute_result"
    }
   ],
   "source": [
    "s1 = set([1,2,3])\n",
    "s1\n",
    "print(type(s1))\n",
    "s2 = set(\"집가고\")\n",
    "s2\n"
   ]
  },
  {
   "cell_type": "code",
   "execution_count": 10,
   "metadata": {},
   "outputs": [
    {
     "name": "stdout",
     "output_type": "stream",
     "text": [
      "[1, 2, 3]\n",
      "<class 'list'>\n"
     ]
    }
   ],
   "source": [
    "# 리스트로 변환\n",
    "s1 = set([1,2,3])\n",
    "\n",
    "l1 = list(s1)\n",
    "print(l1)\n",
    "print(type(l1))"
   ]
  },
  {
   "cell_type": "code",
   "execution_count": 11,
   "metadata": {},
   "outputs": [
    {
     "name": "stdout",
     "output_type": "stream",
     "text": [
      "(1, 2, 3)\n",
      "<class 'tuple'>\n"
     ]
    }
   ],
   "source": [
    "# 튜플로 변환\n",
    "s1 = set([1,2,3])\n",
    "\n",
    "t1 = tuple(s1)\n",
    "print(t1)\n",
    "print(type(t1))\n"
   ]
  },
  {
   "cell_type": "markdown",
   "metadata": {},
   "source": [
    "### 교집합 합집합 차집합\n"
   ]
  },
  {
   "cell_type": "code",
   "execution_count": 15,
   "metadata": {},
   "outputs": [
    {
     "name": "stdout",
     "output_type": "stream",
     "text": [
      "교집합(&): {4, 5}\n",
      "교집합(&):[형변환] [4, 5]\n",
      "교집합(&): {4, 5}\n",
      "교집합(intersection):[형변환] [4, 5]\n"
     ]
    }
   ],
   "source": [
    "s1 = [1,2,3,4,5]\n",
    "s2 = [4,5,6,7,8,9]\n",
    "\n",
    "s1 = set(s1)\n",
    "s2 = set(s2)\n",
    "\n",
    "# 교집합 구하기\n",
    "result1= s1 & s2\n",
    "print(\"교집합(&):\", result1)\n",
    "print(\"교집합(&):[형변환]\", list(result1))\n",
    "\n",
    "# 교집합 intersection()\n",
    "result2 = s1.intersection(s2)\n",
    "print(\"교집합(&):\", result2)\n",
    "print(\"교집합(intersection):[형변환]\", list(result2))"
   ]
  },
  {
   "cell_type": "code",
   "execution_count": 19,
   "metadata": {},
   "outputs": [
    {
     "name": "stdout",
     "output_type": "stream",
     "text": [
      "{1, 2, 3, 4, 5, 6, 7, 8, 9}\n",
      "합집합 : {1, 2, 3, 4, 5, 6, 7, 8, 9}\n"
     ]
    },
    {
     "data": {
      "text/plain": [
       "{1, 2, 3, 4, 5, 6, 7, 8, 9}"
      ]
     },
     "execution_count": 19,
     "metadata": {},
     "output_type": "execute_result"
    }
   ],
   "source": [
    "s1 = [1,2,3,4,5]\n",
    "s2 = [4,5,6,7,8,9]\n",
    "\n",
    "s1 = set(s1)\n",
    "s2 = set(s2)\n",
    "\n",
    "# 합집합 |(shift\\)\n",
    "result1 =s1 | s2\n",
    "print(result1)\n",
    "print(\"합집합 :\", result1)\n",
    "s1.union(s2)"
   ]
  },
  {
   "cell_type": "code",
   "execution_count": 30,
   "metadata": {},
   "outputs": [
    {
     "name": "stdout",
     "output_type": "stream",
     "text": [
      "차집합 :  {1, 2, 3}\n",
      "차집합 :  {8, 9, 6, 7}\n",
      "차집합differencfe): {1, 2, 3}\n",
      "차집합difference) : {8, 9, 6, 7}\n"
     ]
    }
   ],
   "source": [
    "s1 = [1,2,3,4,5]\n",
    "s2 = [4,5,6,7,8,9]\n",
    "\n",
    "s1 = set(s1)\n",
    "s2 = set(s2)\n",
    "\n",
    "# 차집합(-)\n",
    "s1-s2\n",
    "result1=s1-s2\n",
    "print(\"차집합 : \", result1)\n",
    "\n",
    "result2 =s2-s1\n",
    "print(\"차집합 : \", result2)\n",
    "\n",
    "# 차집합(diffrence())\n",
    "result3 = s1.difference(s2)\n",
    "print(\"차집합differencfe):\", result3)\n",
    "result4 =s2.difference(s1)\n",
    "print(\"차집합difference) :\", result4)"
   ]
  },
  {
   "cell_type": "markdown",
   "metadata": {},
   "source": [
    "### 값 1개 추가하기 add()"
   ]
  },
  {
   "cell_type": "code",
   "execution_count": 31,
   "metadata": {},
   "outputs": [
    {
     "name": "stdout",
     "output_type": "stream",
     "text": [
      "{1, 2, 3, 4}\n"
     ]
    }
   ],
   "source": [
    "# 값 1개 추가하기\n",
    "s1= set([1,2,3])\n",
    "s1.add(4)\n",
    "print(s1)\n",
    "\n",
    "# 2개요소 추가시 에러, add는 하나만 입력가능\n"
   ]
  },
  {
   "cell_type": "code",
   "execution_count": 35,
   "metadata": {},
   "outputs": [
    {
     "name": "stdout",
     "output_type": "stream",
     "text": [
      "{1, 2, 3}\n"
     ]
    }
   ],
   "source": [
    "# 값 여러개 추가하기 uddate()\n",
    "s1 = set([1,2,3])\n",
    "s1.update([1,2,3])\n",
    "print(s1)\n"
   ]
  },
  {
   "cell_type": "code",
   "execution_count": 36,
   "metadata": {},
   "outputs": [
    {
     "name": "stdout",
     "output_type": "stream",
     "text": [
      "{1, 3}\n"
     ]
    }
   ],
   "source": [
    "# 특정 값 제거하기 remove()\n",
    "s1 = set([1,2,3])\n",
    "s1.remove(2)\n",
    "print(s1)"
   ]
  },
  {
   "cell_type": "code",
   "execution_count": null,
   "metadata": {},
   "outputs": [],
   "source": []
  }
 ],
 "metadata": {
  "kernelspec": {
   "display_name": "Python 3",
   "language": "python",
   "name": "python3"
  },
  "language_info": {
   "codemirror_mode": {
    "name": "ipython",
    "version": 3
   },
   "file_extension": ".py",
   "mimetype": "text/x-python",
   "name": "python",
   "nbconvert_exporter": "python",
   "pygments_lexer": "ipython3",
   "version": "3.12.4"
  }
 },
 "nbformat": 4,
 "nbformat_minor": 2
}
